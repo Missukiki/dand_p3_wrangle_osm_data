{
 "cells": [
  {
   "cell_type": "markdown",
   "metadata": {},
   "source": [
    "# OpenStreetMap Data Case Study"
   ]
  },
  {
   "cell_type": "markdown",
   "metadata": {},
   "source": [
    "在本次项目中，我选择研究的城市是澳大利亚第一大城市悉尼($Sydney,Austrilia$)。\n",
    "* https://www.openstreetmap.org/relation/5750005   \n",
    "* https://mapzen.com/data/metro-extracts/metro/sydney_australia/ "
   ]
  },
  {
   "cell_type": "markdown",
   "metadata": {},
   "source": [
    "## $1.$观察数据\n",
    "本地$osm$文件的大小约为328MB"
   ]
  },
  {
   "cell_type": "code",
   "execution_count": 87,
   "metadata": {},
   "outputs": [
    {
     "name": "stdout",
     "output_type": "stream",
     "text": [
      "-rw-r--r--@ 1 missu  staff  328496448 10 17 15:30 sydney_australia.osm\r\n"
     ]
    }
   ],
   "source": [
    "ls -l sydney_australia.osm"
   ]
  },
  {
   "cell_type": "markdown",
   "metadata": {},
   "source": [
    "首先从原文件中选取标签为$node$或者$way$的元素以及它们的子元素作为研究对象，再从这些元素中选取$1/20$作为一个小样本，对样本中的数据进行简单的观察。"
   ]
  },
  {
   "cell_type": "code",
   "execution_count": 2,
   "metadata": {
    "collapsed": true
   },
   "outputs": [],
   "source": [
    "import xml.etree.cElementTree as ET \n",
    "\n",
    "OSM_FILE = 'sydney_australia.osm'\n",
    "SAMPLE_FILE = \"sample.osm\"\n",
    "k = 20\n",
    "\n",
    "def get_element(osm_file, tags=('node', 'way')):\n",
    "    context = iter(ET.iterparse(osm_file, events=('start', 'end')))\n",
    "    _, root = next(context)\n",
    "    for event, elem in context:\n",
    "        if event == 'end' and elem.tag in tags:\n",
    "            yield elem\n",
    "            root.clear()\n",
    "\n",
    "with open(SAMPLE_FILE, 'wb') as output:\n",
    "    output.write('<?xml version=\"1.0\" encoding=\"UTF-8\"?>\\n')\n",
    "    output.write('<osm>\\n')\n",
    "    for i, element in enumerate(get_element(OSM_FILE)):\n",
    "        if i % k == 0:\n",
    "            output.write(ET.tostring(element, encoding='utf-8'))\n",
    "    output.write('</osm>')"
   ]
  },
  {
   "cell_type": "markdown",
   "metadata": {
    "collapsed": true
   },
   "source": [
    "遍历样本文件，输出出现的所有标签名和它们出现的次数。"
   ]
  },
  {
   "cell_type": "code",
   "execution_count": 6,
   "metadata": {},
   "outputs": [
    {
     "data": {
      "text/plain": [
       "defaultdict(<function __main__.<lambda>>,\n",
       "            {'nd': 87432, 'node': 72895, 'osm': 1, 'tag': 40867, 'way': 10010})"
      ]
     },
     "execution_count": 6,
     "metadata": {},
     "output_type": "execute_result"
    }
   ],
   "source": [
    "from collections import defaultdict\n",
    "tags = defaultdict(lambda: 0)\n",
    "for event,element in ET.iterparse(SAMPLE_FILE):\n",
    "    tags[element.tag] +=1\n",
    "tags"
   ]
  },
  {
   "cell_type": "markdown",
   "metadata": {},
   "source": [
    "样本文件中出现的标签有：\n",
    "\n",
    "- $osm,unique$\n",
    "- $node$,记录节点数据，样本中共有72895个节点\n",
    "- $way$,记录路径数据，样本中共有72895个节点\n",
    "- $nd$,出现87432次，作为$way$的子标签，记录$way$中包含的$node$\n",
    "- $tags$,出现40867次，作为$node$或$way$的子标签，记录$node$和$way$的信息\n",
    "------\n",
    "对每种标签，输出其元素包含的属性值,并验证是否有元素包含的属性与其它元素不一致："
   ]
  },
  {
   "cell_type": "code",
   "execution_count": 7,
   "metadata": {},
   "outputs": [
    {
     "name": "stdout",
     "output_type": "stream",
     "text": [
      "node attributes: ['changeset', 'uid', 'timestamp', 'lon', 'version', 'user', 'lat', 'id']\n",
      "osm attributes: []\n",
      "tag attributes: ['k', 'v']\n",
      "nd attributes: ['ref']\n",
      "way attributes: ['changeset', 'uid', 'timestamp', 'version', 'user', 'id']\n"
     ]
    }
   ],
   "source": [
    "for keys in tags:\n",
    "    for event,element in ET.iterparse(SAMPLE_FILE):\n",
    "        if element.tag == keys:\n",
    "            attributes = element.attrib.keys()\n",
    "            print'{} attributes:'.format(keys),attributes\n",
    "            break\n",
    "    for event,element in ET.iterparse(SAMPLE_FILE):\n",
    "        if element.tag == keys:\n",
    "            if element.attrib.keys() != attributes:\n",
    "                print 'Error:',element.attrib"
   ]
  },
  {
   "cell_type": "markdown",
   "metadata": {},
   "source": [
    "幸运的是，数据集中每种标签的元素都拥有相同的属性，没有出现缺失、多余或不一致的情况。  \n",
    "\n",
    "------\n",
    "为了对每个标签的数据进行审核和完善，需要首先知道每个标签中数据的内容。"
   ]
  },
  {
   "cell_type": "code",
   "execution_count": 8,
   "metadata": {},
   "outputs": [
    {
     "name": "stdout",
     "output_type": "stream",
     "text": [
      "node {'changeset': '4228056', 'uid': '20949', 'timestamp': '2010-03-25T10:25:53Z', 'lon': '151.1888395', 'version': '3', 'user': 'Ebenezer', 'lat': '-33.9176762', 'id': '324883'}\n",
      "osm {}\n",
      "tag {'k': 'crossing', 'v': 'traffic_signals'}\n",
      "nd {'ref': '20827842'}\n",
      "way {'changeset': '52055519', 'uid': '717576', 'timestamp': '2017-09-15T01:26:08Z', 'version': '16', 'user': 'samuelrussell', 'id': '1884057'}\n"
     ]
    }
   ],
   "source": [
    "for keys in tags:\n",
    "    for i,element in ET.iterparse(SAMPLE_FILE):\n",
    "        if element.tag == keys:\n",
    "            print element.tag,element.attrib\n",
    "            break"
   ]
  },
  {
   "cell_type": "markdown",
   "metadata": {},
   "source": [
    "## $2.$数据的审核与完善\n",
    "通过正则表达式，依次对每个标签中的数据进行审核，并完善出现问题的数据。\n",
    "\n",
    "* $changeset／uid／id／ref$属性中合理的值的类型为一个长的正整数\n",
    "* $version$属性中合理的值的类型为一个短的正整数\n",
    "* $timestamp$属性中合理的值为特定的时间格式:XXXX-XX-XX'T'XX:XX:XX'Z'\n",
    "* $lon／lat$属性中合理的值为可能带负号的浮点数\n",
    "* $k$属性中合理的值为混杂小写字母数字和下划线的字符串，其中可能有冒号\n",
    "* $user$属性是用户名，值中可能包含多种语言，格式较为混乱，因此不进行审查\n",
    "* $v$属性中的值为$k$对应的数据的值，数据格式与$k$的值有关，其审查将放在后续进行\n",
    "\n",
    "由此写出每个属性对应合理值的正则表达式"
   ]
  },
  {
   "cell_type": "code",
   "execution_count": 9,
   "metadata": {
    "collapsed": true
   },
   "outputs": [],
   "source": [
    "import re\n",
    "pattern = {}\n",
    "pattern['changeset']=pattern['id']=pattern['uid']=pattern['ref']=pattern['version'] = re.compile(r'^\\d+$')\n",
    "pattern['version'] = re.compile(r'^[1-9][0-9]{0,2}$')\n",
    "pattern['timestamp'] = re.compile(r'^[1-2]\\d{3}-\\d{2}-\\d{2}T\\d{2}:\\d{2}:\\d{2}Z$')\n",
    "pattern['lon']=pattern['lat'] = re.compile(r'^-?(\\d{1,3}\\.\\d*)$')\n",
    "pattern['k'] = re.compile(r'^([a-z0-9]|_)*(:([a-z0-9]|_)*)*$')\n",
    "pattern['v']=pattern['user'] = re.compile(r'.*')"
   ]
  },
  {
   "cell_type": "code",
   "execution_count": 10,
   "metadata": {
    "scrolled": true
   },
   "outputs": [
    {
     "name": "stdout",
     "output_type": "stream",
     "text": [
      "k Hours\n",
      "k Keywords\n",
      "k State\n",
      "k FIXME\n",
      "k FIXME\n",
      "k FIXME\n",
      "k FIXME\n",
      "k Id\n",
      "k Floor_Coun\n",
      "k Brush\n",
      "k Item_ID\n",
      "k Origin_X\n",
      "k Origin_Y\n",
      "k Origin_Z\n",
      "k Item_class\n",
      "k Item_ID\n",
      "k Origin_X\n",
      "k Origin_Y\n",
      "k Origin_Z\n",
      "k Item_class\n",
      "k Item_ID\n",
      "k Origin_X\n",
      "k Origin_Y\n",
      "k Origin_Z\n",
      "k Item_class\n",
      "k Brush\n",
      "k Item_ID\n",
      "k Origin_X\n",
      "k Origin_Y\n",
      "k Origin_Z\n",
      "k Item_class\n",
      "k Brush\n",
      "k Item_ID\n",
      "k Origin_X\n",
      "k Origin_Y\n",
      "k Origin_Z\n",
      "k Item_class\n",
      "k Floor_Coun\n",
      "k Room_Count\n",
      "k Floor_Coun\n",
      "k Room_Count\n",
      "k Floor_Coun\n",
      "k Room_Count\n",
      "k Item_ID\n",
      "k Origin_X\n",
      "k Origin_Y\n",
      "k Origin_Z\n",
      "k Item_class\n",
      "k Origin_X\n",
      "k Origin_Y\n",
      "k Origin_Z\n",
      "k Item_class\n",
      "k Floor_Coun\n",
      "k Floor_Coun\n",
      "k Room_Count\n",
      "k LAYER\n",
      "k GM_TYPE\n",
      "k Item_ID\n",
      "k Origin_X\n",
      "k Origin_Y\n",
      "k Origin_Z\n",
      "k Item_class\n",
      "k u-turn\n",
      "k parking:lane:right:perpendicular:off-street\n",
      "k LAYER\n"
     ]
    }
   ],
   "source": [
    "for event,element in ET.iterparse(SAMPLE_FILE):\n",
    "    for key,value in element.attrib.iteritems():\n",
    "        if not pattern[key].search(value):\n",
    "            print key,value"
   ]
  },
  {
   "cell_type": "markdown",
   "metadata": {},
   "source": [
    "审查结果发现，除$k$属性外的其余标签中的值都是合理的。   \n",
    "观察可以发现，$k$属性中的异常值有两个来源：大写字母和短横线'$-$'。    \n",
    "本项目中不处理短横线'$-$'，但会把大写字母全部转为小写。   \n",
    "定义函数 $'better\\_tag'$ ,后续对$tag$内容的完善都将通过这个函数实现。   "
   ]
  },
  {
   "cell_type": "code",
   "execution_count": 11,
   "metadata": {
    "collapsed": true
   },
   "outputs": [],
   "source": [
    "def better_tag(element):\n",
    "    element.tag = element.tag.lower()\n",
    "    return element"
   ]
  },
  {
   "cell_type": "markdown",
   "metadata": {},
   "source": [
    "为了审查$v$属性中的值，先按照不同的$k$值进行分类。"
   ]
  },
  {
   "cell_type": "code",
   "execution_count": 12,
   "metadata": {
    "scrolled": true
   },
   "outputs": [
    {
     "data": {
      "text/plain": [
       "[('highway', 7283),\n",
       " ('name', 4946),\n",
       " ('source', 4823),\n",
       " ('building', 2008),\n",
       " ('surface', 1298),\n",
       " ('maxspeed', 1261),\n",
       " ('oneway', 1012),\n",
       " ('addr:street', 959),\n",
       " ('amenity', 886),\n",
       " ('source:name', 657),\n",
       " ('created_by', 616),\n",
       " ('noname', 615),\n",
       " ('foot', 603),\n",
       " ('leisure', 560),\n",
       " ('addr:housenumber', 526),\n",
       " ('bicycle', 512),\n",
       " ('service', 407),\n",
       " ('addr:postcode', 407),\n",
       " ('lanes', 379),\n",
       " ('layer', 349)]"
      ]
     },
     "execution_count": 12,
     "metadata": {},
     "output_type": "execute_result"
    }
   ],
   "source": [
    "keys = defaultdict(lambda: 0)\n",
    "for event,element in ET.iterparse(SAMPLE_FILE):\n",
    "    if element.tag == 'tag':\n",
    "        keys[element.attrib['k']] += 1     \n",
    "keys= sorted(keys.iteritems(), key=lambda d:d[1], reverse = True)\n",
    "keys[:20]"
   ]
  },
  {
   "cell_type": "markdown",
   "metadata": {},
   "source": [
    "因为$k$的取值太多，本次项目中我将只选取出现最多的5个$k$值，对这5个$k$相应的的$v$值进行审核与完善。"
   ]
  },
  {
   "cell_type": "code",
   "execution_count": 90,
   "metadata": {},
   "outputs": [
    {
     "data": {
      "text/plain": [
       "[('highway', 7283),\n",
       " ('name', 4946),\n",
       " ('source', 4823),\n",
       " ('building', 2008),\n",
       " ('surface', 1298)]"
      ]
     },
     "execution_count": 90,
     "metadata": {},
     "output_type": "execute_result"
    }
   ],
   "source": [
    "keys[:5]"
   ]
  },
  {
   "cell_type": "markdown",
   "metadata": {},
   "source": [
    "定义一个函数，用来计算对于某个特定的$k$值，$v$可能的取值和每个取值出现的次数。"
   ]
  },
  {
   "cell_type": "code",
   "execution_count": 14,
   "metadata": {
    "collapsed": true
   },
   "outputs": [],
   "source": [
    "def count_value(keyword):\n",
    "    key_dict = defaultdict(lambda:0)\n",
    "    for event,element in ET.iterparse(SAMPLE_FILE):\n",
    "        if element.tag == 'tag' and element.attrib['k'] == keyword:\n",
    "            key_dict[element.attrib['v']] += 1     \n",
    "    key_dict = sorted(key_dict.iteritems(), key=lambda d:d[1], reverse = True)\n",
    "    return key_dict"
   ]
  },
  {
   "cell_type": "markdown",
   "metadata": {},
   "source": [
    "调用函数计算当$k$取值为highway时，$v$的不同取值和出现频次。"
   ]
  },
  {
   "cell_type": "code",
   "execution_count": 15,
   "metadata": {
    "scrolled": true
   },
   "outputs": [
    {
     "data": {
      "text/plain": [
       "[('residential', 2399),\n",
       " ('service', 902),\n",
       " ('footway', 729),\n",
       " ('turning_circle', 533),\n",
       " ('tertiary', 361),\n",
       " ('bus_stop', 342),\n",
       " ('secondary', 258),\n",
       " ('path', 247),\n",
       " ('traffic_signals', 221),\n",
       " ('cycleway', 210),\n",
       " ('crossing', 172),\n",
       " ('primary', 170),\n",
       " ('track', 128),\n",
       " ('unclassified', 126),\n",
       " ('trunk', 119),\n",
       " ('steps', 107),\n",
       " ('motorway_link', 55),\n",
       " ('motorway', 39),\n",
       " ('pedestrian', 27),\n",
       " ('give_way', 24)]"
      ]
     },
     "execution_count": 15,
     "metadata": {},
     "output_type": "execute_result"
    }
   ],
   "source": [
    "count_value('highway')[:20]"
   ]
  },
  {
   "cell_type": "markdown",
   "metadata": {},
   "source": [
    "可以看到当$k$取值$highway$时，对应的$v$值出现最多的是$residential$     \n",
    "没有出现明显有问题的取值，无需进行额外的完善。\n",
    "\n",
    "-------\n",
    "$k$取值$name$时，对应的$v$值是这一地点的名称，取值格式很多样，因此不对这组$v$值进行审查。   \n",
    "下面计算$k$取值为$source$时，$v$的不同取值。"
   ]
  },
  {
   "cell_type": "code",
   "execution_count": 16,
   "metadata": {},
   "outputs": [
    {
     "data": {
      "text/plain": [
       "[('survey', 1220),\n",
       " ('nearmap', 1064),\n",
       " ('Bing', 913),\n",
       " ('bing', 326),\n",
       " ('GPS survey', 118),\n",
       " ('NSW LPI Imagery', 98),\n",
       " ('yahoo', 81),\n",
       " ('local_knowledge', 77),\n",
       " ('yahoo_imagery', 76),\n",
       " ('ABS2011-data.gov.au', 66),\n",
       " ('PGS', 57),\n",
       " ('knowledge', 44),\n",
       " ('NSW LPI Base Map', 44),\n",
       " ('Yahoo maps', 43),\n",
       " ('NSW LPI', 43),\n",
       " ('professional_knowledge;extrapolation', 37),\n",
       " ('GPS', 32),\n",
       " ('Yahoo', 28),\n",
       " ('nswgnb', 27),\n",
       " ('bing;professional_knowledge', 19)]"
      ]
     },
     "execution_count": 16,
     "metadata": {},
     "output_type": "execute_result"
    }
   ],
   "source": [
    "count_value('source')[:20]"
   ]
  },
  {
   "cell_type": "markdown",
   "metadata": {},
   "source": [
    "当$k$取值$source$时，得到了多样化的取值，不难发现其中有很多需要优化的地方：\n",
    "* 由于大小写的不统一，很多相同来源的数据被归到了不同来源，比如'Bing'／'bing'，'yahoo'／'Yahoo'等；\n",
    "* 很多不同的表述其实指向的是同一个数据来源，比如'NSW LPI Base Map'/'NSW LPI Imagery'/'NSW LPI'指的都是澳大利亚新南威尔士政府的Land and Property Information数据，'GPS survey'／'GPS'指的都是来源于GPS的数据；\n",
    "* 很多$v$值中包含了多种数据来源，它们由','／';'/'+'等符号分割，比如'survey;Bing'／'bing + knowledge'等\n",
    "* 取值中还有一些错别字，比如'neamap'／'PGS'（因为在[PGS的wikipedia页面](https://en.wikipedia.org/wiki/PGS)没有找到合理的解释，我认为它是'GPS'的错误输入）    \n",
    "------\n",
    "我的处理方法是：\n",
    "* 筛选出包含','/';'/'+'等连接符的字符串，把它们的$v$值记为'multi-methods'，即通过多种方式获得；\n",
    "* 预设几个关键字如'Bing'／'NSW LPI'／'Yahoo'／'GPS'等，对每个关键字建立正则表达式，并用re.I方法无视大小写。如果字符串成功匹配了某个关键字，就把关键字设定为新的$v$值。比如所有包含'gps'的$v$值都会被改写为'GPS'，所有包含'bing'的$v$值都会被改写为'Bing'。"
   ]
  },
  {
   "cell_type": "code",
   "execution_count": 18,
   "metadata": {
    "collapsed": true
   },
   "outputs": [],
   "source": [
    "# 预设的关键字包括：GPS,survey,Bing,Yahoo,NSW LPI,knowledge,nearmap,ABS(澳大利亚统计局)以及 multi-methods\n",
    "source_pattern = {}\n",
    "source_pattern['multi-methods'] = re.compile(r'[+;,]')\n",
    "source_pattern['GPS'] = re.compile(r'GPS|PGS',re.I)\n",
    "source_pattern['survey'] = re.compile(r'(?<!GPS )survey',re.I) # GPS survey应属于GPS\n",
    "source_pattern['Bing'] = re.compile(r'Bing',re.I)\n",
    "source_pattern['Yahoo'] = re.compile(r'Yahoo',re.I)\n",
    "source_pattern['NSW LPI'] = re.compile(r'NSW|LPI',re.I)\n",
    "source_pattern['knowledge'] = re.compile(r'knowledge',re.I)\n",
    "source_pattern['nearmap'] = re.compile(r'nearmap|neamap',re.I)\n",
    "source_pattern['ABS'] = re.compile(r'ABS',re.I)"
   ]
  },
  {
   "cell_type": "code",
   "execution_count": 19,
   "metadata": {
    "scrolled": true
   },
   "outputs": [
    {
     "data": {
      "text/plain": [
       "[('Bing', 1263),\n",
       " ('survey', 1228),\n",
       " ('nearmap', 1069),\n",
       " ('Yahoo', 286),\n",
       " ('NSW LPI', 245),\n",
       " ('multi-methods', 236),\n",
       " ('GPS', 215),\n",
       " ('knowledge', 135),\n",
       " ('ABS', 73),\n",
       " ('historical', 8),\n",
       " ('UWS Capital Works & Facilities', 6),\n",
       " ('Collected via KeypadMapper', 6),\n",
       " ('photo', 5),\n",
       " ('interpolation', 5),\n",
       " ('Mapbox', 5),\n",
       " ('voice', 5),\n",
       " ('sign', 4),\n",
       " ('digitalglobe', 2),\n",
       " ('http://taronga.org.au/taronga-zoo/map-visit-planner', 2),\n",
       " ('UWS Capital Works and Facilities', 2)]"
      ]
     },
     "execution_count": 19,
     "metadata": {},
     "output_type": "execute_result"
    }
   ],
   "source": [
    "source_list = ['multi-methods','GPS','survey','Bing','Yahoo','NSW LPI','knowledge','nearmap','ABS']\n",
    "source_dict = defaultdict(lambda:0)\n",
    "for event,element in ET.iterparse(SAMPLE_FILE):\n",
    "    if element.tag == 'tag' and element.attrib['k'] == 'source':\n",
    "        v_value = element.attrib['v']\n",
    "        for source in source_list:\n",
    "            if source_pattern[source].search(v_value):\n",
    "                element.attrib['v'] = source\n",
    "                break\n",
    "        source_dict[element.attrib['v']] += 1\n",
    "source_dict = sorted(source_dict.iteritems(), key=lambda d:d[1], reverse = True)\n",
    "source_dict[:20]"
   ]
  },
  {
   "cell_type": "markdown",
   "metadata": {},
   "source": [
    "这是经过修正后的$source$数据，'Bing'成为了最主要的来源。"
   ]
  },
  {
   "cell_type": "code",
   "execution_count": 20,
   "metadata": {
    "scrolled": true
   },
   "outputs": [
    {
     "data": {
      "text/plain": [
       "[('yes', 939),\n",
       " ('house', 512),\n",
       " ('garage', 186),\n",
       " ('apartments', 85),\n",
       " ('industrial', 47),\n",
       " ('residential', 37),\n",
       " ('commercial', 37),\n",
       " ('school', 36),\n",
       " ('retail', 22),\n",
       " ('roof', 20),\n",
       " ('university', 18),\n",
       " ('terrace', 13),\n",
       " ('church', 11),\n",
       " ('warehouse', 5),\n",
       " ('office', 4),\n",
       " ('hospital', 4),\n",
       " ('train_station', 3),\n",
       " ('flats', 3),\n",
       " ('shed', 2),\n",
       " ('college', 2)]"
      ]
     },
     "execution_count": 20,
     "metadata": {},
     "output_type": "execute_result"
    }
   ],
   "source": [
    "count_value('building')[:20]"
   ]
  },
  {
   "cell_type": "markdown",
   "metadata": {},
   "source": [
    "计算$k$取值$building$时，对应$v$的取值，发现出现最多的是$yes$       \n",
    "除了$yes$外，其它取值都描述了建筑的类型，没有明显出现问题的取值，无需额外优化。"
   ]
  },
  {
   "cell_type": "code",
   "execution_count": 21,
   "metadata": {
    "scrolled": true
   },
   "outputs": [
    {
     "data": {
      "text/plain": [
       "[('asphalt', 567),\n",
       " ('paved', 381),\n",
       " ('unpaved', 113),\n",
       " ('concrete', 109),\n",
       " ('grass', 31),\n",
       " ('ground', 29),\n",
       " ('dirt', 19),\n",
       " ('gravel', 13),\n",
       " ('sand', 9),\n",
       " ('paving_stones', 5),\n",
       " ('cobblestone', 4),\n",
       " ('wood', 3),\n",
       " ('bricks', 2),\n",
       " ('brick', 2),\n",
       " ('gravel;ground', 2),\n",
       " ('metal', 2),\n",
       " ('concrete;gravel;ground', 1),\n",
       " ('pebblestone', 1),\n",
       " ('flagstones', 1),\n",
       " ('gravel;sand;rock', 1)]"
      ]
     },
     "execution_count": 21,
     "metadata": {},
     "output_type": "execute_result"
    }
   ],
   "source": [
    "count_value('surface')[:20]"
   ]
  },
  {
   "cell_type": "markdown",
   "metadata": {},
   "source": [
    "$surface$数据记录了地表覆盖的类型。   \n",
    "和上述的处理方式类似，我会把带分号项的$v$值记为$mixed$，其他数据保持不变。"
   ]
  },
  {
   "cell_type": "code",
   "execution_count": 125,
   "metadata": {
    "scrolled": false
   },
   "outputs": [
    {
     "data": {
      "text/plain": [
       "[('asphalt', 567),\n",
       " ('paved', 381),\n",
       " ('unpaved', 113),\n",
       " ('concrete', 109),\n",
       " ('grass', 31),\n",
       " ('ground', 29),\n",
       " ('dirt', 19),\n",
       " ('gravel', 13),\n",
       " ('sand', 9),\n",
       " ('paving_stones', 5),\n",
       " ('mixed', 5),\n",
       " ('cobblestone', 4),\n",
       " ('wood', 3),\n",
       " ('bricks', 2),\n",
       " ('metal', 2),\n",
       " ('brick', 2),\n",
       " ('steel', 1),\n",
       " ('pebblestone', 1),\n",
       " ('flagstones', 1),\n",
       " ('rock', 1)]"
      ]
     },
     "execution_count": 125,
     "metadata": {},
     "output_type": "execute_result"
    }
   ],
   "source": [
    "surface_dict = defaultdict(lambda:0)\n",
    "for event,element in ET.iterparse(SAMPLE_FILE):\n",
    "    if element.tag == 'tag' and element.attrib['k'] == 'surface':\n",
    "        v_value = element.attrib['v']\n",
    "        if ';' in v_value:\n",
    "            element.attrib['v'] = 'mixed'\n",
    "        surface_dict[element.attrib['v']] += 1\n",
    "surface_dict = sorted(surface_dict.iteritems(), key=lambda d:d[1], reverse = True)\n",
    "surface_dict"
   ]
  },
  {
   "cell_type": "markdown",
   "metadata": {},
   "source": [
    "课程中已经编写了对街道名进行审查和优化的函数，对应的是$k$取$addr:street$的情况。"
   ]
  },
  {
   "cell_type": "code",
   "execution_count": 22,
   "metadata": {
    "scrolled": true
   },
   "outputs": [
    {
     "data": {
      "text/plain": [
       "[('Street', 432),\n",
       " ('Road', 246),\n",
       " ('Avenue', 145),\n",
       " ('Parade', 27),\n",
       " ('Drive', 23),\n",
       " ('Crescent', 17),\n",
       " ('Highway', 16),\n",
       " ('Place', 16),\n",
       " ('Circuit', 8),\n",
       " ('Wolli', 4),\n",
       " ('Court', 3),\n",
       " ('Way', 3),\n",
       " ('Close', 3),\n",
       " ('Lane', 2),\n",
       " ('Square', 2),\n",
       " ('Boulevard', 1),\n",
       " ('West', 1),\n",
       " ('East', 1),\n",
       " ('Clontarf', 1),\n",
       " ('Plaza', 1)]"
      ]
     },
     "execution_count": 22,
     "metadata": {},
     "output_type": "execute_result"
    }
   ],
   "source": [
    "mapping = { 'St': 'Street','St.': 'Street','Ave':'Avenue','Ave.':'Avenue','Rd':'Road','Rd.':'Road'}\n",
    "street_type_re = re.compile(r'\\b\\S+\\.?$',re.I)\n",
    "street_dict = defaultdict(lambda:0)\n",
    "for event,element in ET.iterparse(SAMPLE_FILE):\n",
    "    if element.tag == 'tag' and element.attrib['k'] == 'addr:street':\n",
    "        v_value = element.attrib['v']\n",
    "        street_type = street_type_re.search(v_value).group()\n",
    "        if street_type in mapping:\n",
    "            element.attrib['v'] = v_value.replace(street_type,mapping[street_type])\n",
    "        else:\n",
    "            element.attrib['v'] = v_value.replace(street_type,street_type.title())\n",
    "        street_dict[street_type_re.search(element.attrib['v']).group()] += 1\n",
    "street_dict = sorted(street_dict.iteritems(), key=lambda d:d[1], reverse = True)\n",
    "street_dict[:20]"
   ]
  },
  {
   "cell_type": "markdown",
   "metadata": {},
   "source": [
    "这些数据的完善过程都可以整合到函数 $'better\\_tag'$ 中："
   ]
  },
  {
   "cell_type": "code",
   "execution_count": 126,
   "metadata": {
    "collapsed": true
   },
   "outputs": [],
   "source": [
    "def better_tag(element):\n",
    "    element.tag = element.tag.lower()\n",
    "    if element.attrib['k'] == 'source':\n",
    "        source_value = element.attrib['v']\n",
    "        for source in source_list:\n",
    "            if source_pattern[source].search(source_value):\n",
    "                element.attrib['v'] = source\n",
    "                break\n",
    "    elif element.attrib['k'] == 'surface':\n",
    "        surface_value = element.attrib['v']\n",
    "        if ';' in surface_value:\n",
    "            element.attrib['v'] = 'mixed'\n",
    "    elif element.attrib['k'] == 'addr:street':\n",
    "        v_value = element.attrib['v']\n",
    "        street_type = street_type_re.search(v_value).group()\n",
    "        if street_type in mapping:\n",
    "            element.attrib['v'] = v_value.replace(street_type,mapping[street_type])\n",
    "        else:\n",
    "            element.attrib['v'] = v_value.replace(street_type,street_type.title())\n",
    "    return element"
   ]
  },
  {
   "cell_type": "markdown",
   "metadata": {},
   "source": [
    "## $3.$建立SQL数据库\n",
    "由$osm$数据建立$SQL$数据库的过程大致可以分为三步：   \n",
    "$step 1$:通过 $'shape\\_element'$ 函数，把需要导入数据库的数据从$osm$文件中提取出来，转换为几个$dictionaries$"
   ]
  },
  {
   "cell_type": "code",
   "execution_count": 148,
   "metadata": {
    "collapsed": true
   },
   "outputs": [],
   "source": [
    "NODE_FIELDS = ['id', 'lat', 'lon', 'user', 'uid', 'version', 'changeset', 'timestamp']\n",
    "NODE_TAGS_FIELDS = ['id', 'key', 'value', 'type']\n",
    "WAY_FIELDS = ['id', 'user', 'uid', 'version', 'changeset', 'timestamp']\n",
    "WAY_TAGS_FIELDS = ['id', 'key', 'value', 'type']\n",
    "WAY_NODES_FIELDS = ['id', 'node_id', 'position']\n",
    "\n",
    "def shape_element(element, node_attr_fields=NODE_FIELDS, way_attr_fields=WAY_FIELDS, default_tag_type='regular'):\n",
    "\n",
    "    node_attribs,way_attribs = {},{}\n",
    "    way_nodes,tags = [],[]\n",
    "\n",
    "    if element.tag =='node':\n",
    "        for node_attr in NODE_FIELDS:\n",
    "            node_attribs[node_attr] = element.attrib[node_attr]\n",
    "    if element.tag =='way':\n",
    "        for way_attr in WAY_FIELDS:\n",
    "            way_attribs[way_attr] = element.attrib[way_attr]\n",
    "            \n",
    "    count = 0        \n",
    "    for child in element:\n",
    "        if child.tag == 'tag':\n",
    "            child = better_tag(child) #调用 better_tag函数更新tag中的数据\n",
    "            tag_info = {}\n",
    "            tag_info['id'] = element.attrib['id']\n",
    "            tag_info['value'] = child.attrib['v']\n",
    "            if ':' not in child.attrib['k']:\n",
    "                tag_info['type'] = 'regular'\n",
    "                tag_info['key'] = child.attrib['k']\n",
    "            else:\n",
    "                type_k = child.attrib['k'].split(':')[0]\n",
    "                tag_info['type'] = type_k\n",
    "                tag_info['key'] = child.attrib['k'].replace(type_k+':','')\n",
    "            tags.append(tag_info)\n",
    "        elif child.tag == 'nd':\n",
    "            nd_info = {}\n",
    "            nd_info['id'] = element.attrib['id']\n",
    "            nd_info['node_id'] = child.attrib['ref']\n",
    "            nd_info['position'] = count\n",
    "            count += 1\n",
    "            way_nodes.append(nd_info)\n",
    "        \n",
    "    if element.tag == 'node':\n",
    "        return {'node': node_attribs, 'node_tags': tags}\n",
    "    elif element.tag == 'way':\n",
    "        return {'way': way_attribs, 'way_nodes': way_nodes, 'way_tags': tags}"
   ]
  },
  {
   "cell_type": "markdown",
   "metadata": {},
   "source": [
    "$step 2$:通过 $ 'get\\_element'$ 和 $'process\\_map'$ 函数，把数据写入$csv$文件。"
   ]
  },
  {
   "cell_type": "code",
   "execution_count": 149,
   "metadata": {
    "collapsed": true
   },
   "outputs": [],
   "source": [
    "import csv\n",
    "import codecs\n",
    "import pprint\n",
    "\n",
    "NODES_PATH = \"nodes.csv\"\n",
    "NODE_TAGS_PATH = \"nodes_tags.csv\"\n",
    "WAYS_PATH = \"ways.csv\"\n",
    "WAY_NODES_PATH = \"ways_nodes.csv\"\n",
    "WAY_TAGS_PATH = \"ways_tags.csv\"   \n",
    "\n",
    "def get_element(osm_file, tags=('node', 'way')):\n",
    "    context = ET.iterparse(osm_file, events=('start', 'end'))\n",
    "    _, root = next(context)\n",
    "    for event, elem in context:\n",
    "        if event == 'end' and elem.tag in tags:\n",
    "            yield elem\n",
    "            root.clear()\n",
    "\n",
    "class UnicodeDictWriter(csv.DictWriter, object):\n",
    "    def writerow(self, row):\n",
    "        super(UnicodeDictWriter, self).writerow({\n",
    "            k: (v.encode('utf-8') if isinstance(v, unicode) else v) for k, v in row.iteritems()\n",
    "        })\n",
    "    def writerows(self, rows):\n",
    "        for row in rows:\n",
    "            self.writerow(row)\n",
    "\n",
    "def process_map(file_in):\n",
    "\n",
    "    with codecs.open(NODES_PATH, 'w') as nodes_file, \\\n",
    "        codecs.open(NODE_TAGS_PATH, 'w') as nodes_tags_file, \\\n",
    "        codecs.open(WAYS_PATH, 'w') as ways_file, \\\n",
    "        codecs.open(WAY_NODES_PATH, 'w') as way_nodes_file,\\\n",
    "        codecs.open(WAY_TAGS_PATH, 'w') as way_tags_file:\n",
    "\n",
    "        nodes_writer = UnicodeDictWriter(nodes_file, NODE_FIELDS)\n",
    "        node_tags_writer = UnicodeDictWriter(nodes_tags_file, NODE_TAGS_FIELDS)\n",
    "        ways_writer = UnicodeDictWriter(ways_file, WAY_FIELDS)\n",
    "        way_nodes_writer = UnicodeDictWriter(way_nodes_file, WAY_NODES_FIELDS)\n",
    "        way_tags_writer = UnicodeDictWriter(way_tags_file, WAY_TAGS_FIELDS)\n",
    "\n",
    "        nodes_writer.writeheader()\n",
    "        node_tags_writer.writeheader()\n",
    "        ways_writer.writeheader()\n",
    "        way_nodes_writer.writeheader()\n",
    "        way_tags_writer.writeheader()\n",
    "\n",
    "        for element in get_element(file_in, tags=('node', 'way')):\n",
    "            el = shape_element(element)\n",
    "            if el:\n",
    "                if element.tag == 'node':\n",
    "                    nodes_writer.writerow(el['node'])\n",
    "                    node_tags_writer.writerows(el['node_tags'])\n",
    "                elif element.tag == 'way':\n",
    "                    ways_writer.writerow(el['way'])\n",
    "                    way_nodes_writer.writerows(el['way_nodes'])\n",
    "                    way_tags_writer.writerows(el['way_tags'])"
   ]
  },
  {
   "cell_type": "code",
   "execution_count": 150,
   "metadata": {
    "collapsed": true
   },
   "outputs": [],
   "source": [
    "process_map(OSM_FILE)"
   ]
  },
  {
   "cell_type": "markdown",
   "metadata": {},
   "source": [
    "$step 3:$ 在Terminal中运行sqlite3，新建数据库并把$csv$文件导入数据库中   \n",
    "\n",
    "-------\n",
    ".read data_wrangling_schema.sql   \n",
    ".mode csv  \n",
    ".import ways_nodes.csv ways_nodes  \n",
    ".import ways.csv ways  \n",
    ".import ways_tags.csv ways_tags  \n",
    ".import nodes.csv nodes  \n",
    ".import nodes_tags.csv nodes_tags  "
   ]
  },
  {
   "cell_type": "markdown",
   "metadata": {},
   "source": [
    "## $4.$探索数据库   \n",
    "使用 DB-API 连接本地数据库"
   ]
  },
  {
   "cell_type": "code",
   "execution_count": 1,
   "metadata": {
    "collapsed": true
   },
   "outputs": [],
   "source": [
    "import sqlite3\n",
    "conn = sqlite3.connect('osm_Sydney.db')\n",
    "cursor = conn.cursor()"
   ]
  },
  {
   "cell_type": "markdown",
   "metadata": {},
   "source": [
    "查询本地数据库文件的大小，约为175MB"
   ]
  },
  {
   "cell_type": "code",
   "execution_count": 54,
   "metadata": {},
   "outputs": [
    {
     "name": "stdout",
     "output_type": "stream",
     "text": [
      "-rw-r--r--  1 missu  staff  175165440 10 19 22:29 osm_Sydney.db\r\n"
     ]
    }
   ],
   "source": [
    "ls -l *.db"
   ]
  },
  {
   "cell_type": "code",
   "execution_count": 9,
   "metadata": {},
   "outputs": [
    {
     "name": "stdout",
     "output_type": "stream",
     "text": [
      "[(1457894,)]\n"
     ]
    }
   ],
   "source": [
    "count_nodes = cursor.execute('SELECT COUNT(*) FROM NODES')\n",
    "print count_nodes.fetchall()"
   ]
  },
  {
   "cell_type": "code",
   "execution_count": 10,
   "metadata": {},
   "outputs": [
    {
     "name": "stdout",
     "output_type": "stream",
     "text": [
      "[(200195,)]\n"
     ]
    }
   ],
   "source": [
    "count_ways = cursor.execute('SELECT COUNT(*) FROM WAYS')\n",
    "print count_ways.fetchall()"
   ]
  },
  {
   "cell_type": "markdown",
   "metadata": {},
   "source": [
    "分别查询数据集中$nodes$和$ways$的数目，发现共有1457894个节点，和200195条路径。"
   ]
  },
  {
   "cell_type": "code",
   "execution_count": 67,
   "metadata": {
    "scrolled": true
   },
   "outputs": [
    {
     "data": {
      "text/plain": [
       "[(1789, 149668786),\n",
       " (1305, 310457827),\n",
       " (1180, 150905541),\n",
       " (1110, 149949600),\n",
       " (943, 149553706),\n",
       " (936, 398644134),\n",
       " (923, 414632940),\n",
       " (901, 224602856),\n",
       " (843, 366387557),\n",
       " (837, 225080521)]"
      ]
     },
     "execution_count": 67,
     "metadata": {},
     "output_type": "execute_result"
    }
   ],
   "source": [
    "way_length = cursor.execute('''SELECT MAX(position)+1 as max,id\n",
    "                               FROM ways_nodes \n",
    "                               GROUP BY id \n",
    "                               ORDER BY max DESC\n",
    "                               LIMIT 10''')\n",
    "#position是从0开始计数的，所以节点数目是MAX(position)+1\n",
    "way_length.fetchall()"
   ]
  },
  {
   "cell_type": "markdown",
   "metadata": {},
   "source": [
    "从$ways\\_nodes$表格计算每条路上的节点个数，并按节点数从大到小排序发现最多的一条路上有1789个节点"
   ]
  },
  {
   "cell_type": "code",
   "execution_count": 71,
   "metadata": {},
   "outputs": [
    {
     "data": {
      "text/plain": [
       "[(u'SveLil', u'2012-07-23T07:12:19Z', u'regular', u'source', u'ABS'),\n",
       " (u'SveLil', u'2012-07-23T07:12:19Z', u'regular', u'natural', u'coastline')]"
      ]
     },
     "execution_count": 71,
     "metadata": {},
     "output_type": "execute_result"
    }
   ],
   "source": [
    "longest_way = cursor.execute('''SELECT ways.user,ways.timestamp,ways_tags.type, ways_tags.key,ways_tags.value\n",
    "                                FROM ways\n",
    "                                JOIN ways_tags ON ways.id = ways_tags.id\n",
    "                                WHERE ways.id = 149668786''')\n",
    "longest_way.fetchall()"
   ]
  },
  {
   "cell_type": "markdown",
   "metadata": {},
   "source": [
    "为了了解这条最长路径的更多信息，需要把$ways$和$ways_tags$连接，并查询这条道路的id    \n",
    "发现这条路由用户'SveLil'最后于2012年7月23日编辑，ways_tags中的信息这条路的信息来源是ABS，属于海岸线。"
   ]
  },
  {
   "cell_type": "code",
   "execution_count": 62,
   "metadata": {},
   "outputs": [
    {
     "data": {
      "text/plain": [
       "[(200195, 8.749669072654163)]"
      ]
     },
     "execution_count": 62,
     "metadata": {},
     "output_type": "execute_result"
    }
   ],
   "source": [
    "nodes_per_way = cursor.execute('''  SELECT COUNT(*),AVG(max)\n",
    "                                    FROM \n",
    "                                    (SELECT MAX(position)+1 as max\n",
    "                                    FROM ways_nodes \n",
    "                                    GROUP BY id) as SUBSELECT ''')\n",
    "nodes_per_way.fetchall()"
   ]
  },
  {
   "cell_type": "markdown",
   "metadata": {},
   "source": [
    "为了计算每条路上的平均节点个数，需要把之前的查询作为子查询，调用AVG函数计算平均值  \n",
    "结果发现对于全部200195条路径，每条路径上平均有8.75个节点。\n",
    "\n",
    "---\n",
    "值得一提的是，这样计算的平均节点数比简单用总路径数除以总节点数得到的结果要大出很多   \n",
    "这应该是源于位于路径交叉口的节点同时被多条路径包含了，如果计算一下会发现这类交叉路口的节点占了节点总数的20%"
   ]
  },
  {
   "cell_type": "code",
   "execution_count": 49,
   "metadata": {},
   "outputs": [
    {
     "data": {
      "text/plain": [
       "0.20148652782712598"
      ]
     },
     "execution_count": 49,
     "metadata": {},
     "output_type": "execute_result"
    }
   ],
   "source": [
    "total_nodes,total_ways,avg_nodes = 1457894,200195,8.749669072654163\n",
    "cross_nodes = total_ways*avg_nodes-total_nodes\n",
    "cross_nodes/total_nodes"
   ]
  },
  {
   "cell_type": "code",
   "execution_count": 58,
   "metadata": {},
   "outputs": [
    {
     "data": {
      "text/plain": [
       "[(2290,)]"
      ]
     },
     "execution_count": 58,
     "metadata": {},
     "output_type": "execute_result"
    }
   ],
   "source": [
    "count_user = cursor.execute(''' SELECT COUNT(DISTINCT all_user.uid)\n",
    "                                FROM (SELECT uid FROM nodes UNION ALL SELECT uid FROM ways) as all_user ''')\n",
    "count_user.fetchall()"
   ]
  },
  {
   "cell_type": "code",
   "execution_count": 175,
   "metadata": {},
   "outputs": [
    {
     "data": {
      "text/plain": [
       "[(u'balcoath', 117377),\n",
       " (u'inas', 89685),\n",
       " (u'TheSwavu', 74845),\n",
       " (u'aharvey', 64627),\n",
       " (u'ChopStiR', 60780),\n",
       " (u'Leon K', 48656),\n",
       " (u'cleary', 42783),\n",
       " (u'Rhubarb', 40855),\n",
       " (u'AntBurnett', 37624),\n",
       " (u'Warin61', 37149)]"
      ]
     },
     "execution_count": 175,
     "metadata": {},
     "output_type": "execute_result"
    }
   ],
   "source": [
    "best_user = cursor.execute('''SELECT all_user.user,COUNT(*) as num\n",
    "                              FROM (SELECT uid,user FROM nodes UNION ALL SELECT uid,user FROM ways) as all_user \n",
    "                              GROUP BY all_user.uid\n",
    "                              ORDER BY num DESC\n",
    "                              LIMIT 10 ''')\n",
    "best_user = best_user.fetchall()\n",
    "best_user"
   ]
  },
  {
   "cell_type": "code",
   "execution_count": 176,
   "metadata": {
    "collapsed": true
   },
   "outputs": [],
   "source": [
    "import matplotlib.pyplot as plt\n",
    "import seaborn as sns\n",
    "import pandas as pd\n",
    "%matplotlib inline"
   ]
  },
  {
   "cell_type": "markdown",
   "metadata": {},
   "source": [
    "计算为这个$osm$做出贡献的用户数目和作出贡献做多的用户，发现共有2290名用户    \n",
    "作出贡献最多的用户是'balcoath'，他／她编写了117377个节点或路径的数据   \n",
    "可视化结果如下图"
   ]
  },
  {
   "cell_type": "code",
   "execution_count": 177,
   "metadata": {},
   "outputs": [
    {
     "data": {
      "text/plain": [
       "<matplotlib.axes._subplots.AxesSubplot at 0x12fcc9390>"
      ]
     },
     "execution_count": 177,
     "metadata": {},
     "output_type": "execute_result"
    },
    {
     "data": {
      "image/png": "[encoded data removed]",
      "text/plain": [
       "<matplotlib.figure.Figure at 0x12fdbb850>"
      ]
     },
     "metadata": {},
     "output_type": "display_data"
    }
   ],
   "source": [
    "user_df = pd.DataFrame(best_user,columns=['user','count'])\n",
    "user_df.set_index(user_df['user']).plot(kind='bar',fontsize='large',rot=0,figsize=(14,7))"
   ]
  },
  {
   "cell_type": "code",
   "execution_count": 183,
   "metadata": {
    "scrolled": true
   },
   "outputs": [
    {
     "data": {
      "text/plain": [
       "[(u'Bing', 25697),\n",
       " (u'survey', 24217),\n",
       " (u'nearmap', 21753),\n",
       " (u'Yahoo', 5930),\n",
       " (u'NSW LPI', 5148),\n",
       " (u'multi-methods', 4906),\n",
       " (u'GPS', 4434),\n",
       " (u'knowledge', 2533),\n",
       " (u'ABS', 1233),\n",
       " (u'default residential speed limit in Australia', 428)]"
      ]
     },
     "execution_count": 183,
     "metadata": {},
     "output_type": "execute_result"
    }
   ],
   "source": [
    "source = cursor.execute(''' SELECT tags.value,COUNT(*) as num\n",
    "                            FROM \n",
    "                            (SELECT * FROM nodes_tags\n",
    "                            UNION ALL\n",
    "                            SELECT * FROM ways_tags) as tags\n",
    "                            WHERE tags.key = 'source'\n",
    "                            GROUP BY tags.value\n",
    "                            ORDER BY num DESC\n",
    "                            LIMIT 10\n",
    "                            ''')\n",
    "source = source.fetchall()\n",
    "source"
   ]
  },
  {
   "cell_type": "code",
   "execution_count": 185,
   "metadata": {},
   "outputs": [
    {
     "data": {
      "text/plain": [
       "<matplotlib.axes._subplots.AxesSubplot at 0x130853090>"
      ]
     },
     "execution_count": 185,
     "metadata": {},
     "output_type": "execute_result"
    },
    {
     "data": {
      "image/png": "[encoded data removed]",
      "text/plain": [
       "<matplotlib.figure.Figure at 0x12fe191d0>"
      ]
     },
     "metadata": {},
     "output_type": "display_data"
    }
   ],
   "source": [
    "source_df = pd.DataFrame(source,columns=['source','count'])\n",
    "source_df.iloc[9,0] = 'speed limit'\n",
    "source_df.set_index(source_df['source']).plot(kind='bar',fontsize='large',rot=0,figsize=(14,7))"
   ]
  },
  {
   "cell_type": "markdown",
   "metadata": {},
   "source": [
    "查询$source$项，与在样本中看到的结果相似，前文中预设的九个关键字占据了前九名，Bing依然是最主要的数据来源，然后依次是survey,nearmap等"
   ]
  },
  {
   "cell_type": "code",
   "execution_count": 186,
   "metadata": {
    "collapsed": true
   },
   "outputs": [],
   "source": [
    "surface = cursor.execute(''' SELECT value,COUNT(*) as num\n",
    "                            FROM ways_tags\n",
    "                            WHERE key = 'surface'\n",
    "                            GROUP BY value\n",
    "                            ORDER BY num DESC\n",
    "                            LIMIT 10\n",
    "                            ''')\n",
    "surface = surface.fetchall()"
   ]
  },
  {
   "cell_type": "code",
   "execution_count": 187,
   "metadata": {},
   "outputs": [
    {
     "data": {
      "text/plain": [
       "<matplotlib.axes._subplots.AxesSubplot at 0x130cf9e50>"
      ]
     },
     "execution_count": 187,
     "metadata": {},
     "output_type": "execute_result"
    },
    {
     "data": {
      "image/png": "[encoded data removed]",
      "text/plain": [
       "<matplotlib.figure.Figure at 0x130db19d0>"
      ]
     },
     "metadata": {},
     "output_type": "display_data"
    }
   ],
   "source": [
    "surface_df = pd.DataFrame(surface,columns=['surface','count'])\n",
    "surface_df.set_index(surface_df['surface']).plot(kind='bar',fontsize='large',rot=0,figsize=(14,7))"
   ]
  },
  {
   "cell_type": "markdown",
   "metadata": {},
   "source": [
    "对地表覆盖$surface$的查询是相似的，柏油路面是最主要的类型。"
   ]
  },
  {
   "cell_type": "markdown",
   "metadata": {},
   "source": [
    "## $5.Other\\space Ideas$\n",
    "对于这次数据分析过程，我印象最深刻的是对$tag$标签中$v$值的审查和完善，或者说除了$v$值外数据的完整性和一致性还是比较好的，不需要太多的处理。在我自己尝试在$osm$上编辑地图后，我发现$v$值的杂乱源于它大多是完全手动输入的，比如$resource$完全没有预设值，这导致大家输入的值可能多种多样，即使他们试图描述的是同一样事物   \n",
    "我的建议是，在输入$v$值的地方多设置一些预设选项，比如$resource$下的$Bing$、$survey$、$GPS$，或是$fast\\_food$中的$McDonald's$、$Subway$、$KFC$   \n",
    "这样的问题是，世界各地的人可能倾向用不同的数据来源或者吃不同的快餐，所以更好的方式是让这些预设选项可以来自系统内部的统计结果，当系统统计出某个地区的人对某个特定$key$最经常填写的是哪几个值会后，就把这几个值设定成为这个$key$下预置的默认选项，我觉得减少人工输入是减少数据杂乱的最好方式\n",
    "\n",
    "--------\n",
    "另一个收获来源于当我试图分析悉尼的快餐店品牌时："
   ]
  },
  {
   "cell_type": "code",
   "execution_count": 198,
   "metadata": {
    "collapsed": true
   },
   "outputs": [],
   "source": [
    "fast_food = cursor.execute(''' SELECT nodes_tags.value,COUNT(*) as num\n",
    "                            FROM nodes_tags\n",
    "                            JOIN (SELECT id FROM nodes_tags WHERE value = 'fast_food') as subselect\n",
    "                            ON nodes_tags.id = subselect.id\n",
    "                            WHERE nodes_tags.key ='name'\n",
    "                            GROUP BY nodes_tags.value\n",
    "                            ORDER BY num DESC\n",
    "                            LIMIT 10\n",
    "                            ''')\n",
    "fast_food = fast_food.fetchall()"
   ]
  },
  {
   "cell_type": "code",
   "execution_count": 199,
   "metadata": {},
   "outputs": [
    {
     "data": {
      "text/plain": [
       "<matplotlib.axes._subplots.AxesSubplot at 0x130ddfc50>"
      ]
     },
     "execution_count": 199,
     "metadata": {},
     "output_type": "execute_result"
    },
    {
     "data": {
      "image/png": "[encoded data removed]",
      "text/plain": [
       "<matplotlib.figure.Figure at 0x131113dd0>"
      ]
     },
     "metadata": {},
     "output_type": "display_data"
    }
   ],
   "source": [
    "fast_food_df = pd.DataFrame(fast_food,columns=['fast_food','count'])\n",
    "fast_food_df.set_index(fast_food_df['fast_food']).plot(kind='bar',fontsize='large',rot=0,figsize=(14,7))"
   ]
  },
  {
   "cell_type": "markdown",
   "metadata": {},
   "source": [
    "我发现最多的是$McDonald's$,排行二三名的$Subway$和$KFC$同样占据了很大的数量，澳大利亚的本地快餐品牌从第四名才开始出现  \n",
    "这时我发现，在第九名出现了一个新的$McDonalds$，这无疑是$McDonald's$的另一种书写，它们在数据清理阶段应该被归到一起    \n",
    "可以想像的事，除了$McDonald's$外，其他的快餐品牌也会有很多别的书写方式，现在看到的数据中一定还会有很多别的问题，某种意义上这样的分析是“无效的”   \n",
    "这次探索过程给了我一个教训：不要去分析和使用未经清理的数据，它们可能会给你有偏差甚至完全错误的结果，这一点也是课程中多次提及的"
   ]
  },
  {
   "cell_type": "markdown",
   "metadata": {},
   "source": [
    "## $6.References$\n",
    "* https://docs.python.org/2/library/re.html\n",
    "* http://www.sqlitetutorial.net\n",
    "* http://wiki.jikexueyuan.com/project/explore-python/Regular-Expressions/re.html\n",
    "* http://blog.jobbole.com/55086/"
   ]
  },
  {
   "cell_type": "code",
   "execution_count": null,
   "metadata": {
    "collapsed": true
   },
   "outputs": [],
   "source": []
  }
 ],
 "metadata": {
  "kernelspec": {
   "display_name": "Python 2",
   "language": "python",
   "name": "python2"
  },
  "language_info": {
   "codemirror_mode": {
    "name": "ipython",
    "version": 2
   },
   "file_extension": ".py",
   "mimetype": "text/x-python",
   "name": "python",
   "nbconvert_exporter": "python",
   "pygments_lexer": "ipython2",
   "version": "2.7.13"
  }
 },
 "nbformat": 4,
 "nbformat_minor": 2
}
